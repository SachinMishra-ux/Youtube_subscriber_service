{
 "cells": [
  {
   "cell_type": "code",
   "execution_count": 0,
   "metadata": {
    "application/vnd.databricks.v1+cell": {
     "cellMetadata": {
      "byteLimit": 2048000,
      "rowLimit": 10000
     },
     "inputWidgets": {},
     "nuid": "ce370952-4b13-443a-9f25-4085354eee17",
     "showTitle": false,
     "tableResultSettingsMap": {},
     "title": ""
    }
   },
   "outputs": [
    {
     "output_type": "stream",
     "name": "stdout",
     "output_type": "stream",
     "text": [
      "Collecting confluent_kafka\n  Downloading confluent_kafka-2.8.0-cp311-cp311-manylinux_2_28_x86_64.whl.metadata (21 kB)\nDownloading confluent_kafka-2.8.0-cp311-cp311-manylinux_2_28_x86_64.whl (3.8 MB)\n\u001B[?25l   \u001B[90m━━━━━━━━━━━━━━━━━━━━━━━━━━━━━━━━━━━━━━━━\u001B[0m \u001B[32m0.0/3.8 MB\u001B[0m \u001B[31m?\u001B[0m eta \u001B[36m-:--:--\u001B[0m\n\u001B[2K   \u001B[90m━━━━━━━━━━━━━━━━━━━━━━━━━━━━━━━━━━━━━━━━\u001B[0m \u001B[32m3.8/3.8 MB\u001B[0m \u001B[31m49.6 MB/s\u001B[0m eta \u001B[36m0:00:00\u001B[0m\n\u001B[?25hInstalling collected packages: confluent_kafka\nSuccessfully installed confluent_kafka-2.8.0\n\u001B[43mNote: you may need to restart the kernel using %restart_python or dbutils.library.restartPython() to use updated packages.\u001B[0m\n"
     ]
    }
   ],
   "source": [
    "pip install confluent_kafka"
   ]
  },
  {
   "cell_type": "code",
   "execution_count": 0,
   "metadata": {
    "application/vnd.databricks.v1+cell": {
     "cellMetadata": {
      "byteLimit": 2048000,
      "rowLimit": 10000
     },
     "inputWidgets": {},
     "nuid": "58574d31-5082-4478-837b-51b05968e133",
     "showTitle": false,
     "tableResultSettingsMap": {},
     "title": ""
    }
   },
   "outputs": [],
   "source": [
    "%restart_python"
   ]
  },
  {
   "cell_type": "code",
   "execution_count": 0,
   "metadata": {
    "application/vnd.databricks.v1+cell": {
     "cellMetadata": {
      "byteLimit": 2048000,
      "rowLimit": 10000
     },
     "inputWidgets": {},
     "nuid": "eacc3755-6c54-468a-9863-f45f2a3f7b8a",
     "showTitle": false,
     "tableResultSettingsMap": {},
     "title": ""
    }
   },
   "outputs": [
    {
     "output_type": "stream",
     "name": "stdout",
     "output_type": "stream",
     "text": [
      "Collecting faker\n  Downloading Faker-35.2.0-py3-none-any.whl.metadata (15 kB)\nRequirement already satisfied: python-dateutil>=2.4 in /databricks/python3/lib/python3.11/site-packages (from faker) (2.8.2)\nRequirement already satisfied: typing-extensions in /databricks/python3/lib/python3.11/site-packages (from faker) (4.10.0)\nRequirement already satisfied: six>=1.5 in /usr/lib/python3/dist-packages (from python-dateutil>=2.4->faker) (1.16.0)\nDownloading Faker-35.2.0-py3-none-any.whl (1.9 MB)\n\u001B[?25l   \u001B[90m━━━━━━━━━━━━━━━━━━━━━━━━━━━━━━━━━━━━━━━━\u001B[0m \u001B[32m0.0/1.9 MB\u001B[0m \u001B[31m?\u001B[0m eta \u001B[36m-:--:--\u001B[0m\n\u001B[2K   \u001B[90m━━━━━━━━━━━━━━━━━━━━━━━━━━━━━━━━━━━━━━━━\u001B[0m \u001B[32m1.9/1.9 MB\u001B[0m \u001B[31m94.1 MB/s\u001B[0m eta \u001B[36m0:00:00\u001B[0m\n\u001B[?25hInstalling collected packages: faker\nSuccessfully installed faker-35.2.0\n\u001B[43mNote: you may need to restart the kernel using %restart_python or dbutils.library.restartPython() to use updated packages.\u001B[0m\n"
     ]
    }
   ],
   "source": [
    "pip install faker"
   ]
  },
  {
   "cell_type": "code",
   "execution_count": 0,
   "metadata": {
    "application/vnd.databricks.v1+cell": {
     "cellMetadata": {
      "byteLimit": 2048000,
      "rowLimit": 10000
     },
     "inputWidgets": {},
     "nuid": "699ef860-c92a-4902-80b5-a8e4615ff139",
     "showTitle": false,
     "tableResultSettingsMap": {},
     "title": ""
    }
   },
   "outputs": [],
   "source": [
    "from confluent_kafka import Producer\n",
    "import json\n",
    "import random\n",
    "from faker import Faker\n",
    "import time"
   ]
  },
  {
   "cell_type": "code",
   "execution_count": 0,
   "metadata": {
    "application/vnd.databricks.v1+cell": {
     "cellMetadata": {
      "byteLimit": 2048000,
      "rowLimit": 10000
     },
     "inputWidgets": {},
     "nuid": "e40bd674-213c-4afa-80d4-d02a08532464",
     "showTitle": false,
     "tableResultSettingsMap": {},
     "title": ""
    }
   },
   "outputs": [],
   "source": [
    "fake= Faker()\n",
    "conf= {\n",
    "    'bootstrap.servers': 'pkc-921jm.us-east-2.aws.confluent.cloud:9092',\n",
    "    'security.protocol': 'SASL_SSL',\n",
    "    'sasl.mechanism': 'PLAIN',\n",
    "    'sasl.username': '7F3CVTTGVFFHY253',\n",
    "    'sasl.password': 'rLdCtMp7jNqNZcr1Kkt7AjaiFeeU2kn2Z/3KazG10XDWyRwrdDn1OrL4dI+Hk0rr'\n",
    "}"
   ]
  },
  {
   "cell_type": "code",
   "execution_count": 0,
   "metadata": {
    "application/vnd.databricks.v1+cell": {
     "cellMetadata": {
      "byteLimit": 2048000,
      "rowLimit": 10000
     },
     "inputWidgets": {},
     "nuid": "8f150034-b360-4560-a677-b0629d6f7673",
     "showTitle": false,
     "tableResultSettingsMap": {},
     "title": ""
    }
   },
   "outputs": [],
   "source": [
    "producer= Producer(conf)\n",
    "def generate_transactions():\n",
    "    transaction= {\n",
    "        'transaction_id': fake.uuid4(),\n",
    "        'timestampe': time.time(),\n",
    "        'user_id': random.randint(1,1000000),\n",
    "        'amount': round(random.uniform(5,5000),2),\n",
    "        'transaction_type': random.choice(['debit','credit']),\n",
    "        'location': fake.city(),\n",
    "        'merchant': fake.company(),\n",
    "        'card_number': fake.credit_card_number()\n",
    "    }\n",
    "\n",
    "    return transaction"
   ]
  },
  {
   "cell_type": "code",
   "execution_count": 0,
   "metadata": {
    "application/vnd.databricks.v1+cell": {
     "cellMetadata": {
      "byteLimit": 2048000,
      "rowLimit": 10000
     },
     "inputWidgets": {},
     "nuid": "08f8e14b-eb4b-47ef-ae72-4020a67e69c9",
     "showTitle": false,
     "tableResultSettingsMap": {},
     "title": ""
    }
   },
   "outputs": [
    {
     "output_type": "execute_result",
     "data": {
      "text/plain": [
       "{'transaction_id': 'd8924fa1-1d1f-4f47-b387-c7b86adf51b1',\n",
       " 'timestampe': 1739087001.9064796,\n",
       " 'user_id': 419640,\n",
       " 'amount': 1382.77,\n",
       " 'transaction_type': 'debit',\n",
       " 'location': 'West Matthew',\n",
       " 'merchant': 'Klein, Cortez and Solis',\n",
       " 'card_number': '4601682026817859805'}"
      ]
     },
     "execution_count": 26,
     "metadata": {},
     "output_type": "execute_result"
    }
   ],
   "source": [
    "generate_transactions()"
   ]
  },
  {
   "cell_type": "code",
   "execution_count": 0,
   "metadata": {
    "application/vnd.databricks.v1+cell": {
     "cellMetadata": {
      "byteLimit": 2048000,
      "rowLimit": 10000
     },
     "inputWidgets": {},
     "nuid": "bc17fc44-a25b-47ab-a58c-ee21a61423d3",
     "showTitle": false,
     "tableResultSettingsMap": {},
     "title": ""
    }
   },
   "outputs": [],
   "source": [
    "def delivery_report(err, msg):\n",
    "    if err is not None:\n",
    "        print(f'Delivery failed: {err}')\n",
    "    else:\n",
    "        print(f'Delivered message to {msg.topic()} {msg.partition()}')\n"
   ]
  },
  {
   "cell_type": "code",
   "execution_count": 0,
   "metadata": {
    "application/vnd.databricks.v1+cell": {
     "cellMetadata": {
      "byteLimit": 2048000,
      "rowLimit": 10000
     },
     "inputWidgets": {},
     "nuid": "75284b94-9387-4a29-b323-c129da40f336",
     "showTitle": false,
     "tableResultSettingsMap": {},
     "title": ""
    }
   },
   "outputs": [
    {
     "output_type": "stream",
     "name": "stderr",
     "output_type": "stream",
     "text": [
      "%6|1739089030.952|FAIL|rdkafka#producer-3| [thrd:sasl_ssl://b3-pkc-921jm.us-east-2.aws.confluent.cloud:9092/3]: sasl_ssl://b3-pkc-921jm.us-east-2.aws.confluent.cloud:9092/3: Disconnected (after 1192076ms in state UP)\n"
     ]
    },
    {
     "output_type": "stream",
     "name": "stdout",
     "output_type": "stream",
     "text": [
      "Delivered message to transactions 5\n"
     ]
    },
    {
     "output_type": "stream",
     "name": "stderr",
     "output_type": "stream",
     "text": [
      "%6|1739089033.552|FAIL|rdkafka#producer-3| [thrd:sasl_ssl://b4-pkc-921jm.us-east-2.aws.confluent.cloud:9092/4]: sasl_ssl://b4-pkc-921jm.us-east-2.aws.confluent.cloud:9092/4: Disconnected (after 1178605ms in state UP)\n"
     ]
    },
    {
     "output_type": "stream",
     "name": "stdout",
     "output_type": "stream",
     "text": [
      "Delivered message to transactions 4\n"
     ]
    },
    {
     "output_type": "stream",
     "name": "stderr",
     "output_type": "stream",
     "text": [
      "%6|1739089036.154|FAIL|rdkafka#producer-3| [thrd:sasl_ssl://b2-pkc-921jm.us-east-2.aws.confluent.cloud:9092/2]: sasl_ssl://b2-pkc-921jm.us-east-2.aws.confluent.cloud:9092/2: Disconnected (after 1194689ms in state UP)\n"
     ]
    },
    {
     "output_type": "stream",
     "name": "stdout",
     "output_type": "stream",
     "text": [
      "Delivered message to transactions 3\n"
     ]
    },
    {
     "output_type": "stream",
     "name": "stderr",
     "output_type": "stream",
     "text": [
      "%6|1739089038.748|FAIL|rdkafka#producer-3| [thrd:sasl_ssl://b0-pkc-921jm.us-east-2.aws.confluent.cloud:9092/0]: sasl_ssl://b0-pkc-921jm.us-east-2.aws.confluent.cloud:9092/0: Disconnected (after 1187824ms in state UP)\n"
     ]
    },
    {
     "output_type": "stream",
     "name": "stdout",
     "output_type": "stream",
     "text": [
      "Delivered message to transactions 2\nDelivered message to transactions 5\nDelivered message to transactions 5\n"
     ]
    },
    {
     "output_type": "stream",
     "name": "stderr",
     "output_type": "stream",
     "text": [
      "%6|1739089044.195|FAIL|rdkafka#producer-3| [thrd:sasl_ssl://b1-pkc-921jm.us-east-2.aws.confluent.cloud:9092/1]: sasl_ssl://b1-pkc-921jm.us-east-2.aws.confluent.cloud:9092/1: Disconnected (after 1195866ms in state UP)\n"
     ]
    },
    {
     "output_type": "stream",
     "name": "stdout",
     "output_type": "stream",
     "text": [
      "Delivered message to transactions 1\nDelivered message to transactions 1\nDelivered message to transactions 4\nDelivered message to transactions 1\nDelivered message to transactions 2\nDelivered message to transactions 2\nDelivered message to transactions 5\nDelivered message to transactions 1\nDelivered message to transactions 0\nDelivered message to transactions 1\nDelivered message to transactions 4\nDelivered message to transactions 0\nDelivered message to transactions 5\nDelivered message to transactions 0\nDelivered message to transactions 2\nDelivered message to transactions 2\nDelivered message to transactions 4\nDelivered message to transactions 5\nDelivered message to transactions 3\nDelivered message to transactions 3\nDelivered message to transactions 5\nDelivered message to transactions 4\nDelivered message to transactions 4\nDelivered message to transactions 5\nDelivered message to transactions 5\nDelivered message to transactions 3\nDelivered message to transactions 0\nDelivered message to transactions 4\nDelivered message to transactions 1\nDelivered message to transactions 1\nDelivered message to transactions 1\nDelivered message to transactions 4\nDelivered message to transactions 5\nDelivered message to transactions 4\nDelivered message to transactions 2\nDelivered message to transactions 2\nDelivered message to transactions 1\nDelivered message to transactions 5\nDelivered message to transactions 5\nDelivered message to transactions 0\nDelivered message to transactions 3\nDelivered message to transactions 4\nDelivered message to transactions 4\nDelivered message to transactions 4\nDelivered message to transactions 1\nDelivered message to transactions 3\nDelivered message to transactions 4\nDelivered message to transactions 2\nDelivered message to transactions 1\nDelivered message to transactions 1\nDelivered message to transactions 3\nDelivered message to transactions 1\nDelivered message to transactions 3\nDelivered message to transactions 0\nDelivered message to transactions 4\nDelivered message to transactions 5\nDelivered message to transactions 3\nDelivered message to transactions 5\n"
     ]
    }
   ],
   "source": [
    "while True:\n",
    "    txn= generate_transactions()\n",
    "    producer.produce(topic='transactions', value=json.dumps(txn), key=str(txn['transaction_id']), callback=delivery_report)\n",
    "    producer.flush()\n",
    "    time.sleep(1)"
   ]
  }
 ],
 "metadata": {
  "application/vnd.databricks.v1+notebook": {
   "computePreferences": null,
   "dashboards": [],
   "environmentMetadata": {
    "base_environment": "",
    "environment_version": "2"
   },
   "language": "python",
   "notebookMetadata": {
    "pythonIndentUnit": 4
   },
   "notebookName": "producer of farud-analytics-project",
   "widgets": {}
  },
  "language_info": {
   "name": "python"
  }
 },
 "nbformat": 4,
 "nbformat_minor": 0
}